{
  "nbformat": 4,
  "nbformat_minor": 0,
  "metadata": {
    "colab": {
      "name": "MNIST_model_level_3.ipynb",
      "provenance": [],
      "authorship_tag": "ABX9TyOnlVgYbEmspK2hRjtmt+pT",
      "include_colab_link": true
    },
    "kernelspec": {
      "name": "python3",
      "display_name": "Python 3"
    },
    "accelerator": "GPU"
  },
  "cells": [
    {
      "cell_type": "markdown",
      "metadata": {
        "id": "view-in-github",
        "colab_type": "text"
      },
      "source": [
        "<a href=\"https://colab.research.google.com/github/varunkumark1997/EVA5-Assignment/blob/master/MNIST_model_level_3.ipynb\" target=\"_parent\"><img src=\"https://colab.research.google.com/assets/colab-badge.svg\" alt=\"Open In Colab\"/></a>"
      ]
    },
    {
      "cell_type": "markdown",
      "metadata": {
        "id": "NpafuThxCZxI",
        "colab_type": "text"
      },
      "source": [
        "Target:\n",
        "\n",
        "    Add GAP layer\n",
        "    Change Convolution layer to keep parameters below 10k\n",
        "\n",
        "Results:\n",
        "\n",
        "    Parameters: 9,800\n",
        "    Best Train Accuracy: 99.205\n",
        "    Best Test Accuracy: 99.33\n",
        "\n",
        "Analysis:\n",
        "\n",
        "    We have achieved one of the tasks by bringing the params to under 10k\n",
        "    GAP layer has given us better result than conv with 7x7 kernel as at the last layers all the pixels are important bcz the kernel has extracted this for us,\n",
        "    so GAP helps in generalizing and hence better result\n",
        "    But still to achieve the required accuracy and we are almost there..\n",
        "    We can leverage LR Scheduler for achieving our task."
      ]
    },
    {
      "cell_type": "code",
      "metadata": {
        "id": "xpR51_htB408",
        "colab_type": "code",
        "colab": {}
      },
      "source": [
        "from __future__ import print_function\n",
        "import torch\n",
        "import torch.nn as nn\n",
        "import torch.nn.functional as F\n",
        "import torch.optim as optim\n",
        "from torchvision import datasets, transforms"
      ],
      "execution_count": 126,
      "outputs": []
    },
    {
      "cell_type": "code",
      "metadata": {
        "id": "4DlehbUsCeKC",
        "colab_type": "code",
        "colab": {}
      },
      "source": [
        "train_transforms = transforms.Compose(\n",
        "                    [\n",
        "                        transforms.RandomRotation((-7.0, 7.0), fill=(1,)),\n",
        "                        transforms.ToTensor(),\n",
        "                        transforms.Normalize((0.1307,), (0.3081,))\n",
        "                    ])\n",
        "                    \n",
        "test_transforms = transforms.Compose([\n",
        "                        transforms.ToTensor(),\n",
        "                        transforms.Normalize((0.1307,), (0.3081,))\n",
        "                    ])"
      ],
      "execution_count": 134,
      "outputs": []
    },
    {
      "cell_type": "code",
      "metadata": {
        "id": "4-ftP18sChNv",
        "colab_type": "code",
        "colab": {}
      },
      "source": [
        "train = datasets.MNIST('./data', train=True, download=True, transform=train_transforms)\n",
        "test  = datasets.MNIST('./data', train=False, download=True, transform=test_transforms)"
      ],
      "execution_count": 135,
      "outputs": []
    },
    {
      "cell_type": "code",
      "metadata": {
        "id": "91lnEYZfCjK5",
        "colab_type": "code",
        "colab": {
          "base_uri": "https://localhost:8080/",
          "height": 34
        },
        "outputId": "cb12f8ba-bc9f-42ab-cfce-34cd315785fb"
      },
      "source": [
        "SEED = 1\n",
        "\n",
        "cuda = torch.cuda.is_available()\n",
        "print('is CUDA available', cuda)\n",
        "\n",
        "torch.manual_seed(SEED)\n",
        "\n",
        "if cuda:\n",
        "  torch.cuda.manual_seed(SEED)\n",
        "\n",
        "dataloader_args = dict(shuffle=True, batch_size=128, num_workers=4, pin_memory=True) if cuda else dict(shuffle=True, batch_size=64)\n",
        "\n",
        "trainloader = torch.utils.data.DataLoader(train, **dataloader_args)\n",
        "\n",
        "testloader = torch.utils.data.DataLoader(test, **dataloader_args)"
      ],
      "execution_count": 136,
      "outputs": [
        {
          "output_type": "stream",
          "text": [
            "is CUDA available True\n"
          ],
          "name": "stdout"
        }
      ]
    },
    {
      "cell_type": "code",
      "metadata": {
        "id": "SamGp0coClTo",
        "colab_type": "code",
        "colab": {}
      },
      "source": [
        "# train_data = train.train_data\n",
        "# train_data = train.transform(train_data.numpy())\n",
        "\n",
        "# print('Train Data')\n",
        "# print('- Numpy Shape', train.train_data.cpu().numpy().shape)\n",
        "# print('- Tensor Shape', train.train_data.size())\n",
        "# print('- min', torch.min(train_data))\n",
        "# print('- max', torch.max(train_data))\n",
        "# print('- mean', torch.mean(train_data))\n",
        "# print('- std', torch.std(train_data))\n",
        "# print('- var', torch.var(train_data))\n",
        "\n",
        "# dataiterator = iter(trainloader)\n",
        "# images, labels = dataiterator.next()\n",
        "\n",
        "# print(images.shape)\n",
        "# print(labels.shape)\n",
        "\n",
        "# %matplotlib inline\n",
        "# import matplotlib.pyplot as plt\n",
        "\n",
        "# plt.imshow(images[0].numpy().squeeze(), cmap='gray_r')"
      ],
      "execution_count": 138,
      "outputs": []
    },
    {
      "cell_type": "code",
      "metadata": {
        "id": "ff3_yey3CnnZ",
        "colab_type": "code",
        "colab": {
          "base_uri": "https://localhost:8080/",
          "height": 246
        },
        "outputId": "62dc756d-84a2-4962-a589-fe7af61bcf5d"
      },
      "source": [
        "figure = plt.figure()\n",
        "num_of_images = 60\n",
        "for index in range(1, num_of_images + 1):\n",
        "    plt.subplot(6, 10, index)\n",
        "    plt.axis('off')\n",
        "    plt.imshow(images[index].numpy().squeeze(), cmap='gray_r')"
      ],
      "execution_count": 139,
      "outputs": [
        {
          "output_type": "display_data",
          "data": {
            "image/png": "[encoded data removed]",
            "text/plain": [
              "<Figure size 432x288 with 60 Axes>"
            ]
          },
          "metadata": {
            "tags": [],
            "needs_background": "light"
          }
        }
      ]
    },
    {
      "cell_type": "code",
      "metadata": {
        "id": "Shp0t8rbCpuj",
        "colab_type": "code",
        "colab": {}
      },
      "source": [
        "class Net(nn.Module):\n",
        "    def __init__(self):\n",
        "        super(Net, self).__init__()\n",
        "        # Input Block\n",
        "        self.convblock1 = nn.Sequential(\n",
        "            nn.Conv2d(in_channels=1, out_channels=8, kernel_size=(3, 3), padding=0, bias=False),\n",
        "            nn.ReLU(),\n",
        "            nn.BatchNorm2d(8)\n",
        "        ) # output_size = 26\n",
        "\n",
        "        # CONVOLUTION BLOCK 1\n",
        "        self.convblock2 = nn.Sequential(\n",
        "            nn.Conv2d(in_channels=8, out_channels=16, kernel_size=(3, 3), padding=0, bias=False),\n",
        "            nn.ReLU(),\n",
        "            nn.BatchNorm2d(16)\n",
        "        ) # output_size = 24\n",
        "        self.convblock3 = nn.Sequential(\n",
        "            nn.Conv2d(in_channels=16, out_channels=32, kernel_size=(1, 1), padding=0, bias=False),\n",
        "        ) # output_size = 24\n",
        "\n",
        "        self.pool1 = nn.MaxPool2d(2, 2) # output_size = 12\n",
        "\n",
        "        # TRANSITION BLOCK 1\n",
        "        self.convblock4 = nn.Sequential(\n",
        "            nn.Conv2d(in_channels=32, out_channels=16, kernel_size=(1, 1), padding=0, bias=False),\n",
        "            nn.ReLU(),\n",
        "            nn.BatchNorm2d(16)\n",
        "        ) # output_size = 12\n",
        "\n",
        "        self.convblock5 = nn.Sequential(\n",
        "            nn.Conv2d(in_channels=16, out_channels=16, kernel_size=(3, 3), padding=0, bias=False),\n",
        "            nn.ReLU(),\n",
        "            nn.BatchNorm2d(16)\n",
        "        ) # output_size = 10\n",
        "\n",
        "        # CONVOLUTION BLOCK 2\n",
        "        self.convblock6 = nn.Sequential(\n",
        "            nn.Conv2d(in_channels=16, out_channels=8, kernel_size=(3, 3), padding=0, bias=False),\n",
        "            nn.ReLU(),\n",
        "            nn.BatchNorm2d(8)\n",
        "        ) # output_size = 8\n",
        "        self.convblock7 = nn.Sequential(\n",
        "            nn.Conv2d(in_channels=8, out_channels=16, kernel_size=(3, 3), padding=0, bias=False),\n",
        "            nn.ReLU(),\n",
        "            nn.BatchNorm2d(16)\n",
        "        ) # output_size = 6\n",
        "\n",
        "        # CONVOLUTION BLOCK 3\n",
        "        self.convblock8 = nn.Sequential(\n",
        "            nn.Conv2d(in_channels=16, out_channels=16, kernel_size=(3, 3), padding=0, bias=False),\n",
        "            nn.ReLU(),\n",
        "            nn.BatchNorm2d(16)\n",
        "        ) # output_size = 4\n",
        "        self.convblock9 = nn.Sequential(\n",
        "            nn.Conv2d(in_channels=16, out_channels=16, kernel_size=(1, 1), padding=0, bias=False),\n",
        "            nn.ReLU(),\n",
        "            nn.BatchNorm2d(16)\n",
        "        ) # output_size = 4\n",
        "        self.gap = nn.Sequential(\n",
        "            nn.AvgPool2d(kernel_size=4)\n",
        "        ) # output_size = 1\n",
        "\n",
        "        self.convblock10 = nn.Sequential(\n",
        "            nn.Conv2d(in_channels=16, out_channels=10, kernel_size=(1, 1), padding=0, bias=False),\n",
        "        ) \n",
        "\n",
        "    def forward(self, x):\n",
        "        x = self.convblock1(x)\n",
        "        x = self.convblock2(x)\n",
        "        x = self.convblock3(x)\n",
        "        x = self.pool1(x)        \n",
        "        x = self.convblock4(x)\n",
        "        x = self.convblock5(x)\n",
        "        x = self.convblock6(x)\n",
        "        x = self.convblock7(x)\n",
        "        x = self.convblock8(x)\n",
        "        x = self.convblock9(x)        \n",
        "        x = self.gap(x)\n",
        "        x = self.convblock10(x)\n",
        "        x = x.view(-1, 10)\n",
        "        return F.log_softmax(x, dim=-1)"
      ],
      "execution_count": 189,
      "outputs": []
    },
    {
      "cell_type": "code",
      "metadata": {
        "id": "n67mUyHoCqpJ",
        "colab_type": "code",
        "colab": {
          "base_uri": "https://localhost:8080/",
          "height": 764
        },
        "outputId": "ed848420-53f8-4b29-883c-3e4221aa5815"
      },
      "source": [
        "!pip install torchsummary\n",
        "from torchsummary import summary\n",
        "use_cuda = torch.cuda.is_available()\n",
        "device = torch.device(\"cuda\" if use_cuda else \"cpu\")\n",
        "print(device)\n",
        "model = Net().to(device)\n",
        "summary(model, input_size=(1, 28, 28))"
      ],
      "execution_count": 190,
      "outputs": [
        {
          "output_type": "stream",
          "text": [
            "Requirement already satisfied: torchsummary in /usr/local/lib/python3.6/dist-packages (1.5.1)\n",
            "cuda\n",
            "----------------------------------------------------------------\n",
            "        Layer (type)               Output Shape         Param #\n",
            "================================================================\n",
            "            Conv2d-1            [-1, 8, 26, 26]              72\n",
            "              ReLU-2            [-1, 8, 26, 26]               0\n",
            "       BatchNorm2d-3            [-1, 8, 26, 26]              16\n",
            "            Conv2d-4           [-1, 16, 24, 24]           1,152\n",
            "              ReLU-5           [-1, 16, 24, 24]               0\n",
            "       BatchNorm2d-6           [-1, 16, 24, 24]              32\n",
            "            Conv2d-7           [-1, 32, 24, 24]             512\n",
            "         MaxPool2d-8           [-1, 32, 12, 12]               0\n",
            "            Conv2d-9           [-1, 16, 12, 12]             512\n",
            "             ReLU-10           [-1, 16, 12, 12]               0\n",
            "      BatchNorm2d-11           [-1, 16, 12, 12]              32\n",
            "           Conv2d-12           [-1, 16, 10, 10]           2,304\n",
            "             ReLU-13           [-1, 16, 10, 10]               0\n",
            "      BatchNorm2d-14           [-1, 16, 10, 10]              32\n",
            "           Conv2d-15              [-1, 8, 8, 8]           1,152\n",
            "             ReLU-16              [-1, 8, 8, 8]               0\n",
            "      BatchNorm2d-17              [-1, 8, 8, 8]              16\n",
            "           Conv2d-18             [-1, 16, 6, 6]           1,152\n",
            "             ReLU-19             [-1, 16, 6, 6]               0\n",
            "      BatchNorm2d-20             [-1, 16, 6, 6]              32\n",
            "           Conv2d-21             [-1, 16, 4, 4]           2,304\n",
            "             ReLU-22             [-1, 16, 4, 4]               0\n",
            "      BatchNorm2d-23             [-1, 16, 4, 4]              32\n",
            "           Conv2d-24             [-1, 16, 4, 4]             256\n",
            "             ReLU-25             [-1, 16, 4, 4]               0\n",
            "      BatchNorm2d-26             [-1, 16, 4, 4]              32\n",
            "        AvgPool2d-27             [-1, 16, 1, 1]               0\n",
            "           Conv2d-28             [-1, 10, 1, 1]             160\n",
            "================================================================\n",
            "Total params: 9,800\n",
            "Trainable params: 9,800\n",
            "Non-trainable params: 0\n",
            "----------------------------------------------------------------\n",
            "Input size (MB): 0.00\n",
            "Forward/backward pass size (MB): 0.64\n",
            "Params size (MB): 0.04\n",
            "Estimated Total Size (MB): 0.68\n",
            "----------------------------------------------------------------\n"
          ],
          "name": "stdout"
        }
      ]
    },
    {
      "cell_type": "code",
      "metadata": {
        "id": "3KuLQaDkCsav",
        "colab_type": "code",
        "colab": {}
      },
      "source": [
        "from tqdm import tqdm\n",
        "\n",
        "train_losses = []\n",
        "test_losses = []\n",
        "train_acc = []\n",
        "test_acc = []\n",
        "\n",
        "def train(model, device, train_loader, optimizer, epoch):\n",
        "    model.train()\n",
        "    pbar = tqdm(train_loader)\n",
        "    correct = 0\n",
        "    processed = 0\n",
        "    for batch_idx, (data, target) in enumerate(pbar):\n",
        "        data, target = data.to(device), target.to(device)\n",
        "        optimizer.zero_grad()\n",
        "        output = model(data)\n",
        "        loss = F.nll_loss(output, target)\n",
        "        train_losses.append(loss)\n",
        "        loss.backward()\n",
        "        optimizer.step()\n",
        "        \n",
        "        pred = output.argmax(dim=1, keepdim=True)\n",
        "        correct += pred.eq(target.view_as(pred)).sum().item()\n",
        "        processed += len(data)\n",
        "\n",
        "        pbar.set_description(desc= f'loss={loss.item()} batch_id={batch_idx} Accuracy={100*correct/processed}')\n",
        "        train_acc.append(100*correct/processed)\n",
        "\n",
        "def test(model, device, test_loader):\n",
        "    model.eval()\n",
        "    test_loss = 0\n",
        "    correct = 0\n",
        "    with torch.no_grad():\n",
        "        for data, target in test_loader:\n",
        "            data, target = data.to(device), target.to(device)\n",
        "            output = model(data)\n",
        "            test_loss += F.nll_loss(output, target, reduction='sum').item()  # sum up batch loss\n",
        "            pred = output.argmax(dim=1, keepdim=True)  # get the index of the max log-probability\n",
        "            correct += pred.eq(target.view_as(pred)).sum().item()\n",
        "\n",
        "    test_loss /= len(test_loader.dataset)\n",
        "    test_losses.append(test_loss)\n",
        "\n",
        "    print('\\nTest set: Average loss: {:.4f}, Accuracy: {}/{} ({:.2f}%)\\n'.format(\n",
        "        test_loss, correct, len(test_loader.dataset),\n",
        "        100. * correct / len(test_loader.dataset)))\n",
        "    test_acc.append(100. * correct / len(test_loader.dataset))"
      ],
      "execution_count": 191,
      "outputs": []
    },
    {
      "cell_type": "code",
      "metadata": {
        "id": "1j1TBdvdCwtp",
        "colab_type": "code",
        "colab": {
          "base_uri": "https://localhost:8080/",
          "height": 1000
        },
        "outputId": "b3551ad8-dec0-4d8b-d062-d6d94556e8b7"
      },
      "source": [
        "model = Net().to(device)\n",
        "optimizer = optim.SGD(model.parameters(), lr=0.01, momentum=0.9)\n",
        "for epoch in range(10):\n",
        "    print('\\nEPOCH:', epoch + 1)\n",
        "    train(model, device, trainloader, optimizer, epoch)\n",
        "    test(model, device, testloader)"
      ],
      "execution_count": 192,
      "outputs": [
        {
          "output_type": "stream",
          "text": [
            "\r  0%|          | 0/469 [00:00<?, ?it/s]"
          ],
          "name": "stderr"
        },
        {
          "output_type": "stream",
          "text": [
            "\n",
            "EPOCH: 1\n"
          ],
          "name": "stdout"
        },
        {
          "output_type": "stream",
          "text": [
            "loss=0.11535421013832092 batch_id=468 Accuracy=91.29166666666667: 100%|██████████| 469/469 [00:12<00:00, 36.34it/s]\n",
            "  0%|          | 0/469 [00:00<?, ?it/s]"
          ],
          "name": "stderr"
        },
        {
          "output_type": "stream",
          "text": [
            "\n",
            "Test set: Average loss: 0.0554, Accuracy: 9859/10000 (98.59%)\n",
            "\n",
            "\n",
            "EPOCH: 2\n"
          ],
          "name": "stdout"
        },
        {
          "output_type": "stream",
          "text": [
            "loss=0.15072090923786163 batch_id=468 Accuracy=98.05166666666666: 100%|██████████| 469/469 [00:13<00:00, 35.52it/s]\n",
            "  0%|          | 0/469 [00:00<?, ?it/s]"
          ],
          "name": "stderr"
        },
        {
          "output_type": "stream",
          "text": [
            "\n",
            "Test set: Average loss: 0.0391, Accuracy: 9885/10000 (98.85%)\n",
            "\n",
            "\n",
            "EPOCH: 3\n"
          ],
          "name": "stdout"
        },
        {
          "output_type": "stream",
          "text": [
            "loss=0.04443027079105377 batch_id=468 Accuracy=98.46666666666667: 100%|██████████| 469/469 [00:13<00:00, 35.37it/s]\n",
            "  0%|          | 0/469 [00:00<?, ?it/s]"
          ],
          "name": "stderr"
        },
        {
          "output_type": "stream",
          "text": [
            "\n",
            "Test set: Average loss: 0.0335, Accuracy: 9901/10000 (99.01%)\n",
            "\n",
            "\n",
            "EPOCH: 4\n"
          ],
          "name": "stdout"
        },
        {
          "output_type": "stream",
          "text": [
            "loss=0.0343194380402565 batch_id=468 Accuracy=98.69166666666666: 100%|██████████| 469/469 [00:13<00:00, 35.58it/s]\n",
            "  0%|          | 0/469 [00:00<?, ?it/s]"
          ],
          "name": "stderr"
        },
        {
          "output_type": "stream",
          "text": [
            "\n",
            "Test set: Average loss: 0.0334, Accuracy: 9905/10000 (99.05%)\n",
            "\n",
            "\n",
            "EPOCH: 5\n"
          ],
          "name": "stdout"
        },
        {
          "output_type": "stream",
          "text": [
            "loss=0.034649137407541275 batch_id=468 Accuracy=98.84833333333333: 100%|██████████| 469/469 [00:13<00:00, 35.46it/s]\n",
            "  0%|          | 0/469 [00:00<?, ?it/s]"
          ],
          "name": "stderr"
        },
        {
          "output_type": "stream",
          "text": [
            "\n",
            "Test set: Average loss: 0.0306, Accuracy: 9905/10000 (99.05%)\n",
            "\n",
            "\n",
            "EPOCH: 6\n"
          ],
          "name": "stdout"
        },
        {
          "output_type": "stream",
          "text": [
            "loss=0.01967504248023033 batch_id=468 Accuracy=98.99: 100%|██████████| 469/469 [00:13<00:00, 35.89it/s]\n",
            "  0%|          | 0/469 [00:00<?, ?it/s]"
          ],
          "name": "stderr"
        },
        {
          "output_type": "stream",
          "text": [
            "\n",
            "Test set: Average loss: 0.0295, Accuracy: 9905/10000 (99.05%)\n",
            "\n",
            "\n",
            "EPOCH: 7\n"
          ],
          "name": "stdout"
        },
        {
          "output_type": "stream",
          "text": [
            "loss=0.00414412934333086 batch_id=468 Accuracy=98.99166666666666: 100%|██████████| 469/469 [00:12<00:00, 36.20it/s]\n",
            "  0%|          | 0/469 [00:00<?, ?it/s]"
          ],
          "name": "stderr"
        },
        {
          "output_type": "stream",
          "text": [
            "\n",
            "Test set: Average loss: 0.0280, Accuracy: 9907/10000 (99.07%)\n",
            "\n",
            "\n",
            "EPOCH: 8\n"
          ],
          "name": "stdout"
        },
        {
          "output_type": "stream",
          "text": [
            "loss=0.07000923156738281 batch_id=468 Accuracy=99.095: 100%|██████████| 469/469 [00:12<00:00, 36.33it/s]\n",
            "  0%|          | 0/469 [00:00<?, ?it/s]"
          ],
          "name": "stderr"
        },
        {
          "output_type": "stream",
          "text": [
            "\n",
            "Test set: Average loss: 0.0260, Accuracy: 9914/10000 (99.14%)\n",
            "\n",
            "\n",
            "EPOCH: 9\n"
          ],
          "name": "stdout"
        },
        {
          "output_type": "stream",
          "text": [
            "loss=0.09036801010370255 batch_id=468 Accuracy=99.165: 100%|██████████| 469/469 [00:12<00:00, 36.15it/s]\n",
            "  0%|          | 0/469 [00:00<?, ?it/s]"
          ],
          "name": "stderr"
        },
        {
          "output_type": "stream",
          "text": [
            "\n",
            "Test set: Average loss: 0.0201, Accuracy: 9933/10000 (99.33%)\n",
            "\n",
            "\n",
            "EPOCH: 10\n"
          ],
          "name": "stdout"
        },
        {
          "output_type": "stream",
          "text": [
            "loss=0.03632470965385437 batch_id=468 Accuracy=99.205: 100%|██████████| 469/469 [00:13<00:00, 35.25it/s]\n"
          ],
          "name": "stderr"
        },
        {
          "output_type": "stream",
          "text": [
            "\n",
            "Test set: Average loss: 0.0233, Accuracy: 9917/10000 (99.17%)\n",
            "\n"
          ],
          "name": "stdout"
        }
      ]
    },
    {
      "cell_type": "code",
      "metadata": {
        "id": "9G1NCZFfCy9Q",
        "colab_type": "code",
        "colab": {
          "base_uri": "https://localhost:8080/",
          "height": 624
        },
        "outputId": "82586086-58a4-4d96-cfea-d6856e39655c"
      },
      "source": [
        "fig, axis = plt.subplots(2, 2, figsize=(15,10))\n",
        "axis[0, 0].plot(train_losses)\n",
        "axis[0, 0].set_title(\"Training Loss\")\n",
        "axis[1 ,0].plot(train_acc)\n",
        "axis[1, 0].set_title(\"Training Accuracy\")\n",
        "axis[0 ,1].plot(test_losses)\n",
        "axis[0, 1].set_title(\"Testing Loss\")\n",
        "axis[1 ,1].plot(test_acc)\n",
        "axis[1, 1].set_title(\"Testing Accuracy\")"
      ],
      "execution_count": 193,
      "outputs": [
        {
          "output_type": "execute_result",
          "data": {
            "text/plain": [
              "Text(0.5, 1.0, 'Testing Accuracy')"
            ]
          },
          "metadata": {
            "tags": []
          },
          "execution_count": 193
        },
        {
          "output_type": "display_data",
          "data": {
            "image/png": "[encoded data removed]",
            "text/plain": [
              "<Figure size 1080x720 with 4 Axes>"
            ]
          },
          "metadata": {
            "tags": [],
            "needs_background": "light"
          }
        }
      ]
    }
  ]
}